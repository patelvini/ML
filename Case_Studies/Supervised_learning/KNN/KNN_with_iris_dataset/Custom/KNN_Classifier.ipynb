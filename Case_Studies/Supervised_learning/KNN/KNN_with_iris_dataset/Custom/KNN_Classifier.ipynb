{
 "cells": [
  {
   "cell_type": "markdown",
   "metadata": {},
   "source": [
    "## Implementation of kNN Algorithm using Python\n",
    "\n",
    "- Handling the data\n",
    "- Calculate the distance\n",
    "- Find k nearest point\n",
    "- Predict the class\n",
    "- Check the accuracy"
   ]
  },
  {
   "cell_type": "markdown",
   "metadata": {},
   "source": [
    "### import libraries"
   ]
  },
  {
   "cell_type": "code",
   "execution_count": 1,
   "metadata": {},
   "outputs": [],
   "source": [
    "import pandas as pd\n",
    "import numpy as np\n",
    "import pickle\n",
    "import os\n",
    "import operator\n",
    "import random"
   ]
  },
  {
   "cell_type": "markdown",
   "metadata": {},
   "source": [
    "### Handling the data"
   ]
  },
  {
   "cell_type": "code",
   "execution_count": 3,
   "metadata": {},
   "outputs": [],
   "source": [
    "path = os.getcwd()\n",
    "for i in range(3):\n",
    "\tpath = os.path.dirname(path)\n",
    "data = pd.read_csv( path + '/Datasets/IRIS.csv')\n",
    "data.sort_values(by = 'sepal_width', inplace = True)"
   ]
  },
  {
   "cell_type": "code",
   "execution_count": 30,
   "metadata": {},
   "outputs": [],
   "source": [
    "def train_test_split(dataset):\n",
    "\ttraining_data = dataset.iloc[:80].reset_index(drop = True)\n",
    "\ttesting_data = dataset.iloc[80:].reset_index(drop = True)\n",
    "\ttrainingSet = []\n",
    "\ttest_classes = []\n",
    "\ttest_data = []\n",
    "\tfor index, rows in training_data.iterrows():\n",
    "\t\tmy_list = [rows.sepal_length, rows.sepal_width, rows.petal_length, rows.petal_width, rows.species]\n",
    "\t\ttrainingSet.append(my_list)\n",
    "\n",
    "\tfor index, rows in testing_data.iterrows():\n",
    "\t\tmy_list = [rows.sepal_length, rows.sepal_width, rows.petal_length, rows.petal_width]\n",
    "\t\ttest_classes.append(rows.species)\n",
    "\t\ttest_data.append(my_list)\n",
    "\treturn trainingSet,test_data,test_classes"
   ]
  },
  {
   "cell_type": "code",
   "execution_count": 31,
   "metadata": {},
   "outputs": [],
   "source": [
    "training_data, testing_data, test_classes =  train_test_split(data)"
   ]
  },
  {
   "cell_type": "code",
   "execution_count": 32,
   "metadata": {},
   "outputs": [
    {
     "data": {
      "text/plain": [
       "[[5.0, 2.0, 3.5, 1.0, 'Iris-versicolor'],\n",
       " [6.0, 2.2, 4.0, 1.0, 'Iris-versicolor'],\n",
       " [6.0, 2.2, 5.0, 1.5, 'Iris-virginica'],\n",
       " [6.2, 2.2, 4.5, 1.5, 'Iris-versicolor'],\n",
       " [4.5, 2.3, 1.3, 0.3, 'Iris-setosa'],\n",
       " [5.5, 2.3, 4.0, 1.3, 'Iris-versicolor'],\n",
       " [5.0, 2.3, 3.3, 1.0, 'Iris-versicolor'],\n",
       " [6.3, 2.3, 4.4, 1.3, 'Iris-versicolor'],\n",
       " [5.5, 2.4, 3.7, 1.0, 'Iris-versicolor'],\n",
       " [5.5, 2.4, 3.8, 1.1, 'Iris-versicolor'],\n",
       " [4.9, 2.4, 3.3, 1.0, 'Iris-versicolor'],\n",
       " [6.3, 2.5, 4.9, 1.5, 'Iris-versicolor'],\n",
       " [6.3, 2.5, 5.0, 1.9, 'Iris-virginica'],\n",
       " [5.1, 2.5, 3.0, 1.1, 'Iris-versicolor'],\n",
       " [5.7, 2.5, 5.0, 2.0, 'Iris-virginica'],\n",
       " [6.7, 2.5, 5.8, 1.8, 'Iris-virginica'],\n",
       " [5.6, 2.5, 3.9, 1.1, 'Iris-versicolor'],\n",
       " [5.5, 2.5, 4.0, 1.3, 'Iris-versicolor'],\n",
       " [4.9, 2.5, 4.5, 1.7, 'Iris-virginica'],\n",
       " [5.8, 2.6, 4.0, 1.2, 'Iris-versicolor'],\n",
       " [5.7, 2.6, 3.5, 1.0, 'Iris-versicolor'],\n",
       " [5.5, 2.6, 4.4, 1.2, 'Iris-versicolor'],\n",
       " [7.7, 2.6, 6.9, 2.3, 'Iris-virginica'],\n",
       " [6.1, 2.6, 5.6, 1.4, 'Iris-virginica'],\n",
       " [5.8, 2.7, 5.1, 1.9, 'Iris-virginica'],\n",
       " [5.6, 2.7, 4.2, 1.3, 'Iris-versicolor'],\n",
       " [5.2, 2.7, 3.9, 1.4, 'Iris-versicolor'],\n",
       " [6.4, 2.7, 5.3, 1.9, 'Iris-virginica'],\n",
       " [5.8, 2.7, 3.9, 1.2, 'Iris-versicolor'],\n",
       " [5.8, 2.7, 4.1, 1.0, 'Iris-versicolor'],\n",
       " [5.8, 2.7, 5.1, 1.9, 'Iris-virginica'],\n",
       " [6.3, 2.7, 4.9, 1.8, 'Iris-virginica'],\n",
       " [6.0, 2.7, 5.1, 1.6, 'Iris-versicolor'],\n",
       " [6.3, 2.8, 5.1, 1.5, 'Iris-virginica'],\n",
       " [6.4, 2.8, 5.6, 2.2, 'Iris-virginica'],\n",
       " [7.4, 2.8, 6.1, 1.9, 'Iris-virginica'],\n",
       " [6.4, 2.8, 5.6, 2.1, 'Iris-virginica'],\n",
       " [6.5, 2.8, 4.6, 1.5, 'Iris-versicolor'],\n",
       " [6.1, 2.8, 4.7, 1.2, 'Iris-versicolor'],\n",
       " [6.2, 2.8, 4.8, 1.8, 'Iris-virginica'],\n",
       " [5.7, 2.8, 4.1, 1.3, 'Iris-versicolor'],\n",
       " [7.7, 2.8, 6.7, 2.0, 'Iris-virginica'],\n",
       " [5.6, 2.8, 4.9, 2.0, 'Iris-virginica'],\n",
       " [5.8, 2.8, 5.1, 2.4, 'Iris-virginica'],\n",
       " [6.1, 2.8, 4.0, 1.3, 'Iris-versicolor'],\n",
       " [6.8, 2.8, 4.8, 1.4, 'Iris-versicolor'],\n",
       " [5.7, 2.8, 4.5, 1.3, 'Iris-versicolor'],\n",
       " [6.0, 2.9, 4.5, 1.5, 'Iris-versicolor'],\n",
       " [6.6, 2.9, 4.6, 1.3, 'Iris-versicolor'],\n",
       " [5.6, 2.9, 3.6, 1.3, 'Iris-versicolor'],\n",
       " [6.1, 2.9, 4.7, 1.4, 'Iris-versicolor'],\n",
       " [6.4, 2.9, 4.3, 1.3, 'Iris-versicolor'],\n",
       " [6.2, 2.9, 4.3, 1.3, 'Iris-versicolor'],\n",
       " [5.7, 2.9, 4.2, 1.3, 'Iris-versicolor'],\n",
       " [6.3, 2.9, 5.6, 1.8, 'Iris-virginica'],\n",
       " [7.3, 2.9, 6.3, 1.8, 'Iris-virginica'],\n",
       " [4.4, 2.9, 1.4, 0.2, 'Iris-setosa'],\n",
       " [6.5, 3.0, 5.2, 2.0, 'Iris-virginica'],\n",
       " [6.6, 3.0, 4.4, 1.4, 'Iris-versicolor'],\n",
       " [6.7, 3.0, 5.2, 2.3, 'Iris-virginica'],\n",
       " [6.0, 3.0, 4.8, 1.8, 'Iris-virginica'],\n",
       " [7.7, 3.0, 6.1, 2.3, 'Iris-virginica'],\n",
       " [6.7, 3.0, 5.0, 1.7, 'Iris-versicolor'],\n",
       " [7.2, 3.0, 5.8, 1.6, 'Iris-virginica'],\n",
       " [5.6, 3.0, 4.1, 1.3, 'Iris-versicolor'],\n",
       " [5.4, 3.0, 4.5, 1.5, 'Iris-versicolor'],\n",
       " [6.8, 3.0, 5.5, 2.1, 'Iris-virginica'],\n",
       " [7.6, 3.0, 6.6, 2.1, 'Iris-virginica'],\n",
       " [6.5, 3.0, 5.8, 2.2, 'Iris-virginica'],\n",
       " [7.1, 3.0, 5.9, 2.1, 'Iris-virginica'],\n",
       " [5.7, 3.0, 4.2, 1.2, 'Iris-versicolor'],\n",
       " [6.1, 3.0, 4.6, 1.4, 'Iris-versicolor'],\n",
       " [6.1, 3.0, 4.9, 1.8, 'Iris-virginica'],\n",
       " [6.5, 3.0, 5.5, 1.8, 'Iris-virginica'],\n",
       " [5.9, 3.0, 5.1, 1.8, 'Iris-virginica'],\n",
       " [5.6, 3.0, 4.5, 1.5, 'Iris-versicolor'],\n",
       " [5.9, 3.0, 4.2, 1.5, 'Iris-versicolor'],\n",
       " [4.4, 3.0, 1.3, 0.2, 'Iris-setosa'],\n",
       " [4.3, 3.0, 1.1, 0.1, 'Iris-setosa'],\n",
       " [5.0, 3.0, 1.6, 0.2, 'Iris-setosa']]"
      ]
     },
     "execution_count": 32,
     "metadata": {},
     "output_type": "execute_result"
    }
   ],
   "source": [
    "training_data"
   ]
  },
  {
   "cell_type": "code",
   "execution_count": 33,
   "metadata": {},
   "outputs": [
    {
     "data": {
      "text/plain": [
       "[[4.9, 3.0, 1.4, 0.2],\n",
       " [4.8, 3.0, 1.4, 0.1],\n",
       " [4.8, 3.0, 1.4, 0.3],\n",
       " [4.9, 3.1, 1.5, 0.1],\n",
       " [6.4, 3.1, 5.5, 1.8],\n",
       " [6.7, 3.1, 5.6, 2.4],\n",
       " [6.9, 3.1, 5.1, 2.3],\n",
       " [4.8, 3.1, 1.6, 0.2],\n",
       " [4.9, 3.1, 1.5, 0.1],\n",
       " [6.7, 3.1, 4.7, 1.5],\n",
       " [6.9, 3.1, 5.4, 2.1],\n",
       " [6.9, 3.1, 4.9, 1.5],\n",
       " [6.7, 3.1, 4.4, 1.4],\n",
       " [4.6, 3.1, 1.5, 0.2],\n",
       " [4.9, 3.1, 1.5, 0.1],\n",
       " [4.7, 3.2, 1.6, 0.2],\n",
       " [6.5, 3.2, 5.1, 2.0],\n",
       " [7.2, 3.2, 6.0, 1.8],\n",
       " [6.4, 3.2, 5.3, 2.3],\n",
       " [5.9, 3.2, 4.8, 1.8],\n",
       " [6.9, 3.2, 5.7, 2.3],\n",
       " [6.4, 3.2, 4.5, 1.5],\n",
       " [4.4, 3.2, 1.3, 0.2],\n",
       " [6.8, 3.2, 5.9, 2.3],\n",
       " [7.0, 3.2, 4.7, 1.4],\n",
       " [5.0, 3.2, 1.2, 0.2],\n",
       " [4.6, 3.2, 1.4, 0.2],\n",
       " [4.7, 3.2, 1.3, 0.2],\n",
       " [6.3, 3.3, 4.7, 1.6],\n",
       " [5.1, 3.3, 1.7, 0.5],\n",
       " [5.0, 3.3, 1.4, 0.2],\n",
       " [6.3, 3.3, 6.0, 2.5],\n",
       " [6.7, 3.3, 5.7, 2.1],\n",
       " [6.7, 3.3, 5.7, 2.5],\n",
       " [5.0, 3.4, 1.5, 0.2],\n",
       " [4.6, 3.4, 1.4, 0.3],\n",
       " [6.3, 3.4, 5.6, 2.4],\n",
       " [4.8, 3.4, 1.6, 0.2],\n",
       " [4.8, 3.4, 1.9, 0.2],\n",
       " [5.2, 3.4, 1.4, 0.2],\n",
       " [6.0, 3.4, 4.5, 1.6],\n",
       " [5.1, 3.4, 1.5, 0.2],\n",
       " [5.4, 3.4, 1.5, 0.4],\n",
       " [5.4, 3.4, 1.7, 0.2],\n",
       " [6.2, 3.4, 5.4, 2.3],\n",
       " [5.0, 3.4, 1.6, 0.4],\n",
       " [5.0, 3.5, 1.6, 0.6],\n",
       " [5.0, 3.5, 1.3, 0.3],\n",
       " [5.5, 3.5, 1.3, 0.2],\n",
       " [5.2, 3.5, 1.5, 0.2],\n",
       " [5.1, 3.5, 1.4, 0.2],\n",
       " [5.1, 3.5, 1.4, 0.3],\n",
       " [4.6, 3.6, 1.0, 0.2],\n",
       " [7.2, 3.6, 6.1, 2.5],\n",
       " [5.0, 3.6, 1.4, 0.2],\n",
       " [5.4, 3.7, 1.5, 0.2],\n",
       " [5.3, 3.7, 1.5, 0.2],\n",
       " [5.1, 3.7, 1.5, 0.4],\n",
       " [7.9, 3.8, 6.4, 2.0],\n",
       " [7.7, 3.8, 6.7, 2.2],\n",
       " [5.1, 3.8, 1.6, 0.2],\n",
       " [5.1, 3.8, 1.9, 0.4],\n",
       " [5.7, 3.8, 1.7, 0.3],\n",
       " [5.1, 3.8, 1.5, 0.3],\n",
       " [5.4, 3.9, 1.7, 0.4],\n",
       " [5.4, 3.9, 1.3, 0.4],\n",
       " [5.8, 4.0, 1.2, 0.2],\n",
       " [5.2, 4.1, 1.5, 0.1],\n",
       " [5.5, 4.2, 1.4, 0.2],\n",
       " [5.7, 4.4, 1.5, 0.4]]"
      ]
     },
     "execution_count": 33,
     "metadata": {},
     "output_type": "execute_result"
    }
   ],
   "source": [
    "testing_data"
   ]
  },
  {
   "cell_type": "markdown",
   "metadata": {},
   "source": [
    "### Calculate the distace\n",
    "\n",
    "In order to make any predictions, you have to calculate the distance between the new point and the existing points, as you will be needing k closest points.\n",
    "\n",
    "In this case for calculating the distance, we will use the Euclidean distance. This is defined as the square root of the sum of the squared differences between the two arrays of numbers\n",
    "\n",
    "Specifically, we need only first 4 attributes(features) for distance calculation as the last attribute is a class label. So for one of the approach is to limit the Euclidean distance to a fixed length, thereby ignoring the final dimension."
   ]
  },
  {
   "cell_type": "code",
   "execution_count": 34,
   "metadata": {},
   "outputs": [],
   "source": [
    "def euclidian_distance(data1, data2, length):\n",
    "    distance = 0\n",
    "    for i in range(length):\n",
    "        distance += ((data1[i] - data2[i])**2)\n",
    "        distance = (distance ** (1/2))\n",
    "    return distance"
   ]
  },
  {
   "cell_type": "markdown",
   "metadata": {},
   "source": [
    "### Find k nearest point\n",
    "\n",
    "Now that you have calculated the distance from each point, we can use it collect the k most similar points/instances for the given test data/instance.\n",
    "\n",
    "This is a straightforward process: Calculate the distance wrt all the instance and select the subset having the smallest Euclidean distance.\n",
    "\n",
    "Let’s create a getKNeighbors function that  returns k most similar neighbors from the training set for a given test instance"
   ]
  },
  {
   "cell_type": "code",
   "execution_count": 35,
   "metadata": {},
   "outputs": [],
   "source": [
    "def getKNeighbors(trainingSet, testInstance, k):\n",
    "\tdistances = []\n",
    "\tlength = len(testInstance)\n",
    "\tfor i in range(len(trainingSet)):\n",
    "\t\tdist = euclidian_distance(testInstance, trainingSet[i], length)\n",
    "\t\tdistances.append((trainingSet[i], dist))\n",
    "\t\tdistances.sort(key = operator.itemgetter(1))\n",
    "\tneighbors = []\n",
    "\tfor i in range(k):\n",
    "\t\tneighbors.append(distances[i][0])\n",
    "\treturn neighbors"
   ]
  },
  {
   "cell_type": "markdown",
   "metadata": {},
   "source": [
    "### Predict the class\n",
    "\n",
    "Now that you have the k nearest points/neighbors for the given test instance, the next task is to predicted response based on those neighbors\n",
    "\n",
    "You can do this by allowing each neighbor to vote for their class attribute, and take the majority vote as the prediction.\n",
    "\n",
    "Let’s create a getResponse function for getting the majority voted response from a number of neighbors."
   ]
  },
  {
   "cell_type": "code",
   "execution_count": 36,
   "metadata": {},
   "outputs": [],
   "source": [
    "def predict(neighbors):\n",
    "\tclassVotes = {}\n",
    "\tfor i in range(len(neighbors)):\n",
    "\t\tresponse = neighbors[i][-1]\n",
    "\t\tif response in classVotes:\n",
    "\t\t\tclassVotes[response] +=1\n",
    "\t\telse:\n",
    "\t\t\tclassVotes[response] = 1\n",
    "\tsortedVotes = sorted(classVotes.items(), key = operator.itemgetter(1), reverse = True)\n",
    "\treturn sortedVotes[0][0]"
   ]
  },
  {
   "cell_type": "markdown",
   "metadata": {},
   "source": [
    "### Check the accuracy\n",
    "\n",
    "Now that we have all of the pieces of the kNN algorithm in place. Let’s check how accurate our prediction is!\n",
    "\n",
    "An easy way to evaluate the accuracy of the model is to calculate a ratio of the total correct predictions out of all predictions made.\n",
    "\n",
    "Let’s create a getAccuracy function which sums the total correct predictions and returns the accuracy as a percentage of correct classifications."
   ]
  },
  {
   "cell_type": "code",
   "execution_count": 37,
   "metadata": {},
   "outputs": [],
   "source": [
    "def getAccuracy(testSet, predictions):\n",
    "\tcorrect = 0\n",
    "\tfor i in range(len(testSet)):\n",
    "\t\tif testSet[i] is predictions[i]:\n",
    "\t\t\tcorrect += 1\n",
    "\taccuracy = correct/float(len(testSet)) * 100.0\n",
    "\treturn accuracy"
   ]
  },
  {
   "cell_type": "code",
   "execution_count": 38,
   "metadata": {},
   "outputs": [
    {
     "name": "stdout",
     "output_type": "stream",
     "text": [
      "\n",
      "Accuracy =  98.57142857142858 %\n"
     ]
    }
   ],
   "source": [
    "predictions = []\n",
    "for i in range(len(testing_data)):\n",
    "\tneighbors = getKNeighbors(training_data, testing_data[i], k=3)\n",
    "\tpredictions.append(predict(neighbors))\n",
    "accuracy = getAccuracy(test_classes, predictions)\n",
    "print(\"\\nAccuracy = \", accuracy, \"%\")"
   ]
  },
  {
   "cell_type": "markdown",
   "metadata": {},
   "source": [
    "This was all about the kNN Algorithm using python."
   ]
  }
 ],
 "metadata": {
  "kernelspec": {
   "display_name": "Python 3",
   "language": "python",
   "name": "python3"
  },
  "language_info": {
   "codemirror_mode": {
    "name": "ipython",
    "version": 3
   },
   "file_extension": ".py",
   "mimetype": "text/x-python",
   "name": "python",
   "nbconvert_exporter": "python",
   "pygments_lexer": "ipython3",
   "version": "3.7.3"
  }
 },
 "nbformat": 4,
 "nbformat_minor": 2
}
