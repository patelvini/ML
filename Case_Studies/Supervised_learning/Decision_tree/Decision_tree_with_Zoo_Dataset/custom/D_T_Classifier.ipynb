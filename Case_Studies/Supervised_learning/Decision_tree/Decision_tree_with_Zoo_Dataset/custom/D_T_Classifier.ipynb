{
 "cells": [
  {
   "cell_type": "markdown",
   "metadata": {},
   "source": [
    "# Decision tree from scratch"
   ]
  },
  {
   "cell_type": "code",
   "execution_count": 51,
   "metadata": {},
   "outputs": [],
   "source": [
    "import pandas as pd\n",
    "import numpy as np"
   ]
  },
  {
   "cell_type": "code",
   "execution_count": 52,
   "metadata": {},
   "outputs": [],
   "source": [
    "dataset = {\"toothed\":[\"True\",\"True\",\"True\",\"False\",\"True\",\"True\",\"True\",\"True\",\"True\",\"False\"],\n",
    "                     \"breathes\":[\"True\",\"True\",\"True\",\"True\",\"True\",\"True\",\"False\",\"True\",\"True\",\"True\"],\n",
    "                     \"legs\":[\"True\",\"True\",\"False\",\"True\",\"True\",\"True\",\"False\",\"False\",\"True\",\"True\"],\n",
    "                     \"species\":[\"Mammal\",\"Mammal\",\"Reptile\",\"Mammal\",\"Mammal\",\"Mammal\",\"Reptile\",\"Reptile\",\"Mammal\",\"Reptile\"]}"
   ]
  },
  {
   "cell_type": "markdown",
   "metadata": {},
   "source": [
    "We will read this with Pandas dataframe"
   ]
  },
  {
   "cell_type": "code",
   "execution_count": 59,
   "metadata": {},
   "outputs": [],
   "source": [
    "df = pd.DataFrame(dataset,columns=[\"toothed\",\"breathes\",\"legs\",\"species\"])"
   ]
  },
  {
   "cell_type": "code",
   "execution_count": 60,
   "metadata": {},
   "outputs": [
    {
     "data": {
      "text/html": [
       "<div>\n",
       "<style scoped>\n",
       "    .dataframe tbody tr th:only-of-type {\n",
       "        vertical-align: middle;\n",
       "    }\n",
       "\n",
       "    .dataframe tbody tr th {\n",
       "        vertical-align: top;\n",
       "    }\n",
       "\n",
       "    .dataframe thead th {\n",
       "        text-align: right;\n",
       "    }\n",
       "</style>\n",
       "<table border=\"1\" class=\"dataframe\">\n",
       "  <thead>\n",
       "    <tr style=\"text-align: right;\">\n",
       "      <th></th>\n",
       "      <th>toothed</th>\n",
       "      <th>breathes</th>\n",
       "      <th>legs</th>\n",
       "      <th>species</th>\n",
       "    </tr>\n",
       "  </thead>\n",
       "  <tbody>\n",
       "    <tr>\n",
       "      <th>0</th>\n",
       "      <td>True</td>\n",
       "      <td>True</td>\n",
       "      <td>True</td>\n",
       "      <td>Mammal</td>\n",
       "    </tr>\n",
       "    <tr>\n",
       "      <th>1</th>\n",
       "      <td>True</td>\n",
       "      <td>True</td>\n",
       "      <td>True</td>\n",
       "      <td>Mammal</td>\n",
       "    </tr>\n",
       "    <tr>\n",
       "      <th>2</th>\n",
       "      <td>True</td>\n",
       "      <td>True</td>\n",
       "      <td>False</td>\n",
       "      <td>Reptile</td>\n",
       "    </tr>\n",
       "    <tr>\n",
       "      <th>3</th>\n",
       "      <td>False</td>\n",
       "      <td>True</td>\n",
       "      <td>True</td>\n",
       "      <td>Mammal</td>\n",
       "    </tr>\n",
       "    <tr>\n",
       "      <th>4</th>\n",
       "      <td>True</td>\n",
       "      <td>True</td>\n",
       "      <td>True</td>\n",
       "      <td>Mammal</td>\n",
       "    </tr>\n",
       "    <tr>\n",
       "      <th>5</th>\n",
       "      <td>True</td>\n",
       "      <td>True</td>\n",
       "      <td>True</td>\n",
       "      <td>Mammal</td>\n",
       "    </tr>\n",
       "    <tr>\n",
       "      <th>6</th>\n",
       "      <td>True</td>\n",
       "      <td>False</td>\n",
       "      <td>False</td>\n",
       "      <td>Reptile</td>\n",
       "    </tr>\n",
       "    <tr>\n",
       "      <th>7</th>\n",
       "      <td>True</td>\n",
       "      <td>True</td>\n",
       "      <td>False</td>\n",
       "      <td>Reptile</td>\n",
       "    </tr>\n",
       "    <tr>\n",
       "      <th>8</th>\n",
       "      <td>True</td>\n",
       "      <td>True</td>\n",
       "      <td>True</td>\n",
       "      <td>Mammal</td>\n",
       "    </tr>\n",
       "    <tr>\n",
       "      <th>9</th>\n",
       "      <td>False</td>\n",
       "      <td>True</td>\n",
       "      <td>True</td>\n",
       "      <td>Reptile</td>\n",
       "    </tr>\n",
       "  </tbody>\n",
       "</table>\n",
       "</div>"
      ],
      "text/plain": [
       "  toothed breathes   legs  species\n",
       "0    True     True   True   Mammal\n",
       "1    True     True   True   Mammal\n",
       "2    True     True  False  Reptile\n",
       "3   False     True   True   Mammal\n",
       "4    True     True   True   Mammal\n",
       "5    True     True   True   Mammal\n",
       "6    True    False  False  Reptile\n",
       "7    True     True  False  Reptile\n",
       "8    True     True   True   Mammal\n",
       "9   False     True   True  Reptile"
      ]
     },
     "execution_count": 60,
     "metadata": {},
     "output_type": "execute_result"
    }
   ],
   "source": [
    "df"
   ]
  },
  {
   "cell_type": "markdown",
   "metadata": {},
   "source": [
    "we need to find the Entropy and then Information Gain for splitting the data set.\n",
    "\n",
    "**Entropy of a class**\n",
    "\n",
    "![](https://miro.medium.com/max/264/0*DF1v3ZA0omgVFOeh)\n",
    "\n",
    "We’ll define a function that takes in class (target variable vector) and finds the entropy of that class.\n",
    "\n",
    "Here the fraction is ‘pi’, it is the proportion of a number of elements in that split group to the number of elements in the group before splitting(parent group)."
   ]
  },
  {
   "cell_type": "code",
   "execution_count": 62,
   "metadata": {},
   "outputs": [],
   "source": [
    "def entropy(target_col):\n",
    "\n",
    "\t\"\"\"Calculate the entropy of a dataset. The only parameter for this function is the target_col parameter which specifies the target column\"\"\"\n",
    "\n",
    "\tvals ,counts = np.unique(df[target_col],return_counts = True) \n",
    "\ttotal = np.sum(counts)\n",
    "\tentropy = 0\n",
    "\n",
    "\tfor i in counts:\n",
    "\t\tentropy -= (i/total) * np.log2(i/total)\n",
    "\n",
    "\tentropy = round(entropy,3)\n",
    "\treturn entropy"
   ]
  },
  {
   "cell_type": "code",
   "execution_count": 63,
   "metadata": {},
   "outputs": [
    {
     "data": {
      "text/plain": [
       "0.971"
      ]
     },
     "execution_count": 63,
     "metadata": {},
     "output_type": "execute_result"
    }
   ],
   "source": [
    "entropy('species')"
   ]
  },
  {
   "cell_type": "code",
   "execution_count": 64,
   "metadata": {},
   "outputs": [],
   "source": [
    "def InfoGain(data, split_attribute_name, target_name = 'species'):\n",
    "\n",
    "\t\"\"\"\n",
    "    Calculate the information gain of a dataset. This function takes three parameters:\n",
    "    1. data = The dataset for whose feature the IG should be calculated\n",
    "    2. split_attribute_name = the name of the feature for which the information gain should be calculated\n",
    "    3. target_name = the name of the target feature. The default for this example is \"class\"\n",
    "    \"\"\"    \n",
    "\n",
    "    # calculate the entropy of the total dataset\n",
    "\t\n",
    "\ttotal_entropy = entropy(target_name)\n",
    "\n",
    "    # calculating corresponding counts for the split attribute\n",
    "\n",
    "\tvals, counts = np.unique(data[split_attribute_name], return_counts = True)\n",
    "\n",
    "\ttotal = np.sum(counts)\n",
    "\tattribute_entropy = 0\n",
    "\n",
    "\n",
    "\tfor i in range(len(vals)):\n",
    "\t\tattribute_entropy += counts[i]/total * entropy(data.where(data[split_attribute_name]==vals[i]).dropna()[target_name])\n",
    "\n",
    "\tInformation_Gain = round(total_entropy - attribute_entropy,4)\n",
    "\n",
    "\treturn Information_Gain"
   ]
  },
  {
   "cell_type": "code",
   "execution_count": 65,
   "metadata": {},
   "outputs": [],
   "source": [
    "def ID3(data, originaldata, features, target_attribute_name = 'species', parent_node_class = None):\n",
    "\n",
    "\t\"\"\"\n",
    "    ID3 Algorithm: This function takes five paramters:\n",
    "    1. data = the data for which the ID3 algorithm should be run --> In the first run this equals the total dataset\n",
    " \n",
    "    2. originaldata = This is the original dataset needed to calculate the mode target feature value of the original dataset\n",
    "    in the case the dataset delivered by the first parameter is empty\n",
    "    3. features = the feature space of the dataset . This is needed for the recursive call since during the tree growing process\n",
    "    we have to remove features from our dataset --> Splitting at each node\n",
    "    4. target_attribute_name = the name of the target attribute\n",
    "    5. parent_node_class = This is the value or class of the mode target feature value of the parent node for a specific node. This is \n",
    "    also needed for the recursive call since if the splitting leads to a situation that there are no more features left in the feature\n",
    "    space, we want to return the mode target feature value of the direct parent node.\n",
    "    \"\"\" \n",
    "\n",
    "    # define the stopping criteria --> If one of these is satisfied, we want to return the leaf node\n",
    "\n",
    "\tvals = np.unique(data[target_attribute_name])\n",
    "\n",
    "    # If all target_variables have same value , return this value\n",
    "\n",
    "\tif len(vals) <= 1:\n",
    "\t\treturn vals[0]\n",
    "\n",
    "    # If the dataset is empty , return the mode target feature value in the original dataset\n",
    "\t\n",
    "\telif len(data) == 0:\n",
    "\n",
    "\t\treturn np.unique(originaldata[target_attribute_name])[np.argmax(np.unique(originaldata[target_attribute_name],return_counts = True)[1])]\n",
    "\n",
    "\t# If the feature space is empty, return the mode target feature value of the direct parent node --> Note that\n",
    "    \n",
    "    # the direct parent node is that node which has called the current run of the ID3 algorithm and hence\n",
    "    \n",
    "    # the mode target feature value is stored in the parent_node_class variable.\n",
    "\n",
    "\telif len(features) == 0:\n",
    "\n",
    "\t\treturn parent_node_class\n",
    "\n",
    "\t# If none of above holds true, grow the tree\n",
    "\n",
    "\telse:\n",
    "\n",
    "\t\t# set the default value for the node\n",
    "\n",
    "\t\tparent_node_class = np.unique(data[target_attribute_name])[np.argmax(np.unique(data[target_attribute_name], return_counts = True)[1])]\n",
    "\n",
    "\t\t## select the feature which best splits the dataset\n",
    "\n",
    "\t\titem_values = [InfoGain(data,features,target_attribute_name) for feature in features]\n",
    "\n",
    "\t\tbest_feature_index = np.argmax(item_values)\n",
    "\n",
    "\t\tbest_feature = features[best_feature_index]\n",
    "\n",
    "\t\t# create the tree structure. The root gets the name of the feature with the maximum information Gain in the first run\n",
    "\n",
    "\t\ttree = {best_feature:{}}\n",
    "\n",
    "\n",
    "\t\t# Remove the feature with the best information gain from the feature space\n",
    "\n",
    "\t\tfeatures = [i for i in features if i!= best_feature]\n",
    "\n",
    "\t\t# grow a branch under the root node for each possible value of the root node feature\n",
    "\n",
    "\t\tfor value in np.unique(data[best_feature]):\n",
    "\n",
    "\t\t\tvalue = value\n",
    "\n",
    "\t\t\t# split the dataset along with the value of the feature with the largest information gain and with that create sub_dataset\n",
    "\n",
    "\t\t\tsub_data = data.where(data[best_feature] == value).dropna()\n",
    "\n",
    "\t\t\t# call the ID3 algorithm for each of those sub_datasets with the new parameters --> here the recursion comes in !!!\n",
    "\n",
    "\t\t\tsubtree = ID3(sub_data,data,features,target_attribute_name,parent_node_class)\n",
    "\n",
    "\t\t\t# Add the subtree , grown from the sub_dataset to the tree under the root node\n",
    "\n",
    "\t\t\ttree[best_feature][value] = subtree\n",
    "\n",
    "\t\treturn tree"
   ]
  },
  {
   "cell_type": "code",
   "execution_count": 66,
   "metadata": {},
   "outputs": [],
   "source": [
    "def predict(query, tree, default = 1):\n",
    "\n",
    "    for key in list(query.keys()):\n",
    "\n",
    "        if key in list(tree.keys()):\n",
    "\n",
    "            try:\n",
    "                result = tree[key][query[key]]\n",
    "\n",
    "            except:\n",
    "                return default\n",
    "            \n",
    "            result = tree[key][query[key]]\n",
    "\n",
    "            if isinstance(result, dict):\n",
    "                return predict(query,result)\n",
    "\n",
    "            else:\n",
    "                return result"
   ]
  },
  {
   "cell_type": "code",
   "execution_count": 73,
   "metadata": {},
   "outputs": [],
   "source": [
    "def train_test_split(dataset):\n",
    "\n",
    "\ttraining_data = dataset.iloc[:8].reset_index(drop = True)\n",
    "\n",
    "\ttesting_data = dataset.iloc[8:].reset_index(drop = True)\n",
    "\n",
    "\treturn training_data, testing_data"
   ]
  },
  {
   "cell_type": "code",
   "execution_count": 68,
   "metadata": {},
   "outputs": [],
   "source": [
    "def test(data, tree):\n",
    "\n",
    "\tqueries = data.iloc[:,:-1].to_dict(orient = \"records\")\n",
    "\n",
    "\tpredicted = pd.DataFrame(columns = [\"Predicted\"])\n",
    "\n",
    "\n",
    "\tfor i in range(len(data)):\n",
    "\t\tpredicted.loc[i,\"predicted\"] = predict(queries[i],tree,1.0)\n",
    "\n",
    "\tprint('The prediction accuracy is: ',(np.sum(predicted[\"predicted\"] == data[\"species\"])/len(data))*100,'%')\n"
   ]
  },
  {
   "cell_type": "code",
   "execution_count": 69,
   "metadata": {},
   "outputs": [],
   "source": [
    "df = pd.DataFrame(dataset,columns=[\"toothed\",\"breathes\",\"legs\",\"species\"])\n",
    "tree = ID3(df, df, df.columns[:-1])"
   ]
  },
  {
   "cell_type": "code",
   "execution_count": 70,
   "metadata": {},
   "outputs": [
    {
     "name": "stdout",
     "output_type": "stream",
     "text": [
      "{'toothed': {'False': {'breathes': {'True': {'legs': {'True': 'Mammal'}}}},\n",
      "             'True': {'breathes': {'False': 'Reptile',\n",
      "                                   'True': {'legs': {'False': 'Reptile',\n",
      "                                                     'True': 'Mammal'}}}}}}\n"
     ]
    }
   ],
   "source": [
    "from pprint import pprint\n",
    "\n",
    "pprint(tree)"
   ]
  },
  {
   "cell_type": "code",
   "execution_count": 75,
   "metadata": {},
   "outputs": [],
   "source": [
    "training_data = train_test_split(df)[0]\n",
    "testing_data = train_test_split(df)[1] "
   ]
  },
  {
   "cell_type": "code",
   "execution_count": 76,
   "metadata": {},
   "outputs": [],
   "source": [
    "tree = ID3(training_data, training_data, training_data.columns[:-1])"
   ]
  },
  {
   "cell_type": "code",
   "execution_count": 78,
   "metadata": {},
   "outputs": [
    {
     "name": "stdout",
     "output_type": "stream",
     "text": [
      "{'toothed': {'False': 'Mammal',\n",
      "             'True': {'breathes': {'False': 'Reptile',\n",
      "                                   'True': {'legs': {'False': 'Reptile',\n",
      "                                                     'True': 'Mammal'}}}}}}\n"
     ]
    }
   ],
   "source": [
    "pprint(tree)"
   ]
  },
  {
   "cell_type": "code",
   "execution_count": 79,
   "metadata": {},
   "outputs": [
    {
     "name": "stdout",
     "output_type": "stream",
     "text": [
      "The prediction accuracy is:  50.0 %\n"
     ]
    }
   ],
   "source": [
    "test(testing_data,tree)"
   ]
  }
 ],
 "metadata": {
  "kernelspec": {
   "display_name": "Python 3",
   "language": "python",
   "name": "python3"
  },
  "language_info": {
   "codemirror_mode": {
    "name": "ipython",
    "version": 3
   },
   "file_extension": ".py",
   "mimetype": "text/x-python",
   "name": "python",
   "nbconvert_exporter": "python",
   "pygments_lexer": "ipython3",
   "version": "3.7.3"
  }
 },
 "nbformat": 4,
 "nbformat_minor": 2
}
