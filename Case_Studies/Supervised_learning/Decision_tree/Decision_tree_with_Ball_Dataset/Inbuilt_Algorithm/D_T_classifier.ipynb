{
 "cells": [
  {
   "cell_type": "code",
   "execution_count": 1,
   "metadata": {},
   "outputs": [],
   "source": [
    "'''\n",
    "There are multiple types of balls in our data set as cricket ball and 1 ball.\n",
    "This type of balls is classified based on its weight and its surface.\n",
    "We must design application using machine learning strategy which is used to classify the balls.\n",
    "'''\n",
    "from sklearn import tree"
   ]
  },
  {
   "cell_type": "code",
   "execution_count": 2,
   "metadata": {},
   "outputs": [],
   "source": [
    "'''\n",
    "Dataset:\n",
    "\n",
    "Features -> Weight,Surface,Label\n",
    "\n",
    "35,Rough,Tennis\n",
    "47,Rough,Tennis\n",
    "90,Smooth,Cricket\n",
    "48,Rough,Tennis\n",
    "90,Smooth,Cricket\n",
    "35,Rough,Tennis\n",
    "92,Smooth,Cricket\n",
    "35,Rough,Tennis\n",
    "35,Rough,Tennis\n",
    "35,Rough,Tennis\n",
    "96,Smooth,Cricket\n",
    "43,Rough,Tennis\n",
    "110,Smooth,Cricket\n",
    "35,Rough,Tennis\n",
    "95,Smooth,Cricket\n",
    "\n",
    "Assumptions :\n",
    "\n",
    "Rough = 1\n",
    "Smooth = 0\n",
    "\n",
    "For target labels\n",
    "\n",
    "Tennis = 1\n",
    "Cricket = 2\n",
    "\n",
    "'''\n",
    "data = [[35,1], [47,1], [90,0], [48,1], [90,0], [35,1], [92,0], [35,1], [35,1], [35,1], [96,0], [43,1], [110,0], [35,1], [95,0]]\n",
    "\n",
    "target_label = [1, 1, 2, 1, 2, 1, 2, 1, 1, 1, 2, 1, 2, 1, 2]\n"
   ]
  },
  {
   "cell_type": "code",
   "execution_count": 3,
   "metadata": {},
   "outputs": [
    {
     "data": {
      "text/plain": [
       "DecisionTreeClassifier(class_weight=None, criterion='gini', max_depth=None,\n",
       "                       max_features=None, max_leaf_nodes=None,\n",
       "                       min_impurity_decrease=0.0, min_impurity_split=None,\n",
       "                       min_samples_leaf=1, min_samples_split=2,\n",
       "                       min_weight_fraction_leaf=0.0, presort=False,\n",
       "                       random_state=None, splitter='best')"
      ]
     },
     "execution_count": 3,
     "metadata": {},
     "output_type": "execute_result"
    }
   ],
   "source": [
    "'''\n",
    "using DecisionTreeClassifier from sklearn.tree created model and fit train data and target \n",
    "labels into the model\n",
    "\n",
    "'''\n",
    "model = tree.DecisionTreeClassifier()\n",
    "\n",
    "model.fit(data,target_label)\n",
    "\n"
   ]
  },
  {
   "cell_type": "code",
   "execution_count": 4,
   "metadata": {},
   "outputs": [
    {
     "name": "stdout",
     "output_type": "stream",
     "text": [
      "[2]\n",
      "<class 'numpy.ndarray'>\n",
      "Ball is Cricket.\n"
     ]
    }
   ],
   "source": [
    "'''\n",
    "predicting label for test data using predict() method\n",
    "'''\n",
    "result = model.predict([[99,0]])\n",
    "\n",
    "print(result)\n",
    "\n",
    "print(type(result))\n",
    "\n",
    "if result == 1:\n",
    "\tprint(\"Ball is Tennis.\")\n",
    "else:\n",
    "\tprint(\"Ball is Cricket.\")"
   ]
  },
  {
   "cell_type": "code",
   "execution_count": null,
   "metadata": {},
   "outputs": [],
   "source": []
  }
 ],
 "metadata": {
  "kernelspec": {
   "display_name": "Python 3",
   "language": "python",
   "name": "python3"
  },
  "language_info": {
   "codemirror_mode": {
    "name": "ipython",
    "version": 3
   },
   "file_extension": ".py",
   "mimetype": "text/x-python",
   "name": "python",
   "nbconvert_exporter": "python",
   "pygments_lexer": "ipython3",
   "version": "3.7.4"
  }
 },
 "nbformat": 4,
 "nbformat_minor": 2
}
