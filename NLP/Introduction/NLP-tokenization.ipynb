{
 "cells": [
  {
   "cell_type": "markdown",
   "metadata": {},
   "source": [
    "# Corpus , Tokens and Ngrams\n",
    "\n",
    "\n",
    "- corpus : Collection of text documents\n",
    "\n",
    "- corups > Documents > Paragraphs > Sentences > Tokens\n",
    "\n",
    "- Tokens : Smaller units of a text (words, phrases, ngrams)\n",
    "\n",
    "- Ngrams : group of n words togather\n",
    "\n",
    "![](ngrams.PNG)\n",
    "\n"
   ]
  },
  {
   "cell_type": "markdown",
   "metadata": {},
   "source": [
    "# Tokenization\n",
    "\n",
    "- process of splitting a text object into smaller units (tokens)\n",
    "\n",
    "- smaller units : words, numbers, symbols, ngrams, characters\n",
    "\n",
    "- white space tokenizer / unigram tokenizer\n",
    "\n",
    "![](white_space_tokenizer.PNG)\n",
    "\n",
    "- Regular expression tokenizer\n",
    "\n",
    "![](Regx_tokenizer.PNG)\n"
   ]
  },
  {
   "cell_type": "markdown",
   "metadata": {},
   "source": [
    "# Normalization\n",
    "\n",
    "- Morpheme : base form of a word\n",
    "\n",
    "- Structure of a token : <prefix><morpheme><suffix>\n",
    "    \n",
    "    ![](structure_of_token.PNG)\n",
    "    \n",
    "- Normalization : Process of converting a token into its base form (morpheme)\n",
    "\n",
    "- Helpful in reducing the data dimentionality, text cleaning\n"
   ]
  },
  {
   "cell_type": "markdown",
   "metadata": {},
   "source": [
    "# Types of Normalization\n",
    "\n",
    "1. Stemming \n",
    "2. Lemmatization\n",
    "\n",
    "### Stemming\n",
    "\n",
    "- Elementary rule based process of removal of inflectional forms from a token \n",
    "\n",
    "- Outputs the stem of a word\n",
    "\n",
    "![](stemming_1.PNG)\n",
    "\n",
    "![](stemming_2.PNG)\n",
    "\n",
    "- may produce non-meaningful terms\n",
    "\n",
    "![](stemming_3.PNG)\n",
    "\n",
    "### Lemmatization\n",
    "\n",
    "- Systematic process for reducing a token to its lemma\n",
    "\n",
    "-  make use of vocabulary, word structure, part of speech tags and grammar relations\n",
    "\n",
    "![](lammatization.PNG)"
   ]
  }
 ],
 "metadata": {
  "kernelspec": {
   "display_name": "Python 3",
   "language": "python",
   "name": "python3"
  },
  "language_info": {
   "codemirror_mode": {
    "name": "ipython",
    "version": 3
   },
   "file_extension": ".py",
   "mimetype": "text/x-python",
   "name": "python",
   "nbconvert_exporter": "python",
   "pygments_lexer": "ipython3",
   "version": "3.7.4"
  }
 },
 "nbformat": 4,
 "nbformat_minor": 2
}
